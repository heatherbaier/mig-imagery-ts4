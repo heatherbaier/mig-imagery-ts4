{
 "cells": [
  {
   "cell_type": "code",
   "execution_count": 19,
   "id": "bb4c5344",
   "metadata": {},
   "outputs": [],
   "source": [
    "import matplotlib.pyplot as plt\n",
    "import pandas as pd\n",
    "import numpy as np\n",
    "\n",
    "# from model_helpers import r2"
   ]
  },
  {
   "cell_type": "code",
   "execution_count": 20,
   "id": "577cf3c8",
   "metadata": {},
   "outputs": [],
   "source": [
    "def r2(true, pred):\n",
    "    '''\n",
    "    r2 = 1 - (RSS / TSS)\n",
    "    R^2\t=\tcoefficient of determination\n",
    "    RSS\t=\tsum of squares of residuals\n",
    "    TSS\t=\ttotal sum of squares\n",
    "    '''\n",
    "    m = np.mean(true)\n",
    "    TSS = sum((true - m) ** 2)\n",
    "    RSS = sum((true - pred) ** 2)\n",
    "    r2 = 1 - (RSS / TSS)\n",
    "    return r2"
   ]
  },
  {
   "cell_type": "code",
   "execution_count": 8,
   "id": "75e3f612",
   "metadata": {},
   "outputs": [
    {
     "data": {
      "text/html": [
       "<div>\n",
       "<style scoped>\n",
       "    .dataframe tbody tr th:only-of-type {\n",
       "        vertical-align: middle;\n",
       "    }\n",
       "\n",
       "    .dataframe tbody tr th {\n",
       "        vertical-align: top;\n",
       "    }\n",
       "\n",
       "    .dataframe thead th {\n",
       "        text-align: right;\n",
       "    }\n",
       "</style>\n",
       "<table border=\"1\" class=\"dataframe\">\n",
       "  <thead>\n",
       "    <tr style=\"text-align: right;\">\n",
       "      <th></th>\n",
       "      <th>impath</th>\n",
       "      <th>true</th>\n",
       "      <th>pred</th>\n",
       "      <th>B</th>\n",
       "    </tr>\n",
       "  </thead>\n",
       "  <tbody>\n",
       "    <tr>\n",
       "      <th>0</th>\n",
       "      <td>MEX-ADM2-1590546715-B3_2010_1_box3_JAN.png</td>\n",
       "      <td>494.0</td>\n",
       "      <td>221.697769</td>\n",
       "      <td>B3</td>\n",
       "    </tr>\n",
       "    <tr>\n",
       "      <th>1</th>\n",
       "      <td>MEX-ADM2-1590546715-B3_2010_1_box5_JAN.png</td>\n",
       "      <td>494.0</td>\n",
       "      <td>226.066864</td>\n",
       "      <td>B3</td>\n",
       "    </tr>\n",
       "    <tr>\n",
       "      <th>2</th>\n",
       "      <td>MEX-ADM2-1590546715-B3_2010_1_box7_JAN.png</td>\n",
       "      <td>494.0</td>\n",
       "      <td>236.648834</td>\n",
       "      <td>B3</td>\n",
       "    </tr>\n",
       "    <tr>\n",
       "      <th>3</th>\n",
       "      <td>MEX-ADM2-1590546715-B3_2010_1_box9_JAN.png</td>\n",
       "      <td>494.0</td>\n",
       "      <td>226.030823</td>\n",
       "      <td>B3</td>\n",
       "    </tr>\n",
       "    <tr>\n",
       "      <th>4</th>\n",
       "      <td>MEX-ADM2-1590546715-B3_2010_1_box11_JAN.png</td>\n",
       "      <td>494.0</td>\n",
       "      <td>229.799438</td>\n",
       "      <td>B3</td>\n",
       "    </tr>\n",
       "  </tbody>\n",
       "</table>\n",
       "</div>"
      ],
      "text/plain": [
       "                                        impath   true        pred   B\n",
       "0   MEX-ADM2-1590546715-B3_2010_1_box3_JAN.png  494.0  221.697769  B3\n",
       "1   MEX-ADM2-1590546715-B3_2010_1_box5_JAN.png  494.0  226.066864  B3\n",
       "2   MEX-ADM2-1590546715-B3_2010_1_box7_JAN.png  494.0  236.648834  B3\n",
       "3   MEX-ADM2-1590546715-B3_2010_1_box9_JAN.png  494.0  226.030823  B3\n",
       "4  MEX-ADM2-1590546715-B3_2010_1_box11_JAN.png  494.0  229.799438  B3"
      ]
     },
     "execution_count": 8,
     "metadata": {},
     "output_type": "execute_result"
    }
   ],
   "source": [
    "df = pd.read_csv(\"./preds_df.csv\")\n",
    "df['B'] = df['impath'].str.split(\"_\").str[0].str.split(\"-\").str[3]\n",
    "df.head()"
   ]
  },
  {
   "cell_type": "code",
   "execution_count": 15,
   "id": "e27d8791",
   "metadata": {},
   "outputs": [
    {
     "name": "stderr",
     "output_type": "stream",
     "text": [
      "/opt/conda/envs/rapids/lib/python3.7/site-packages/ipykernel_launcher.py:1: FutureWarning: Indexing with multiple keys (implicitly converted to a tuple of keys) will be deprecated, use a list instead.\n",
      "  \"\"\"Entry point for launching an IPython kernel.\n"
     ]
    },
    {
     "data": {
      "text/html": [
       "<div>\n",
       "<style scoped>\n",
       "    .dataframe tbody tr th:only-of-type {\n",
       "        vertical-align: middle;\n",
       "    }\n",
       "\n",
       "    .dataframe tbody tr th {\n",
       "        vertical-align: top;\n",
       "    }\n",
       "\n",
       "    .dataframe thead th {\n",
       "        text-align: right;\n",
       "    }\n",
       "</style>\n",
       "<table border=\"1\" class=\"dataframe\">\n",
       "  <thead>\n",
       "    <tr style=\"text-align: right;\">\n",
       "      <th></th>\n",
       "      <th>B</th>\n",
       "      <th>true</th>\n",
       "      <th>pred</th>\n",
       "    </tr>\n",
       "  </thead>\n",
       "  <tbody>\n",
       "    <tr>\n",
       "      <th>0</th>\n",
       "      <td>B1</td>\n",
       "      <td>479.0</td>\n",
       "      <td>235.921432</td>\n",
       "    </tr>\n",
       "    <tr>\n",
       "      <th>1</th>\n",
       "      <td>B10</td>\n",
       "      <td>1048.0</td>\n",
       "      <td>233.520558</td>\n",
       "    </tr>\n",
       "    <tr>\n",
       "      <th>2</th>\n",
       "      <td>B100</td>\n",
       "      <td>39.0</td>\n",
       "      <td>232.829655</td>\n",
       "    </tr>\n",
       "    <tr>\n",
       "      <th>3</th>\n",
       "      <td>B1001</td>\n",
       "      <td>122.0</td>\n",
       "      <td>246.877461</td>\n",
       "    </tr>\n",
       "    <tr>\n",
       "      <th>4</th>\n",
       "      <td>B1002</td>\n",
       "      <td>9.0</td>\n",
       "      <td>232.047528</td>\n",
       "    </tr>\n",
       "  </tbody>\n",
       "</table>\n",
       "</div>"
      ],
      "text/plain": [
       "       B    true        pred\n",
       "0     B1   479.0  235.921432\n",
       "1    B10  1048.0  233.520558\n",
       "2   B100    39.0  232.829655\n",
       "3  B1001   122.0  246.877461\n",
       "4  B1002     9.0  232.047528"
      ]
     },
     "execution_count": 15,
     "metadata": {},
     "output_type": "execute_result"
    }
   ],
   "source": [
    "avg_preds = pd.DataFrame(df.groupby(df['B'])['true', 'pred'].mean()).reset_index()\n",
    "avg_preds.head()"
   ]
  },
  {
   "cell_type": "code",
   "execution_count": 23,
   "id": "8beaace0",
   "metadata": {},
   "outputs": [
    {
     "data": {
      "text/plain": [
       "(0.0, 300.0)"
      ]
     },
     "execution_count": 23,
     "metadata": {},
     "output_type": "execute_result"
    },
    {
     "data": {
      "image/png": "[encoded data removed]",
      "text/plain": [
       "<Figure size 432x288 with 1 Axes>"
      ]
     },
     "metadata": {
      "needs_background": "light"
     },
     "output_type": "display_data"
    }
   ],
   "source": [
    "plt.scatter(avg_preds['true'], avg_preds['pred'])\n",
    "plt.xlim([0, 300])"
   ]
  },
  {
   "cell_type": "code",
   "execution_count": 22,
   "id": "63fff750",
   "metadata": {},
   "outputs": [
    {
     "data": {
      "text/plain": [
       "-0.002477395066842192"
      ]
     },
     "execution_count": 22,
     "metadata": {},
     "output_type": "execute_result"
    }
   ],
   "source": [
    "r2(avg_preds['true'], avg_preds['pred'])"
   ]
  },
  {
   "cell_type": "code",
   "execution_count": 24,
   "id": "cf3ecafc",
   "metadata": {},
   "outputs": [],
   "source": [
    "def mae(real, pred):\n",
    "    '''\n",
    "    Calculates MAE of an epoch\n",
    "    '''\n",
    "    return abs(real - pred).mean()"
   ]
  },
  {
   "cell_type": "code",
   "execution_count": 25,
   "id": "334e61ca",
   "metadata": {},
   "outputs": [
    {
     "data": {
      "text/plain": [
       "229.96538636158243"
      ]
     },
     "execution_count": 25,
     "metadata": {},
     "output_type": "execute_result"
    }
   ],
   "source": [
    "mae(avg_preds['true'], avg_preds['pred'])"
   ]
  },
  {
   "cell_type": "code",
   "execution_count": 26,
   "id": "21e76e82",
   "metadata": {},
   "outputs": [
    {
     "data": {
      "text/plain": [
       "295.46701225259187"
      ]
     },
     "execution_count": 26,
     "metadata": {},
     "output_type": "execute_result"
    }
   ],
   "source": [
    "avg_preds['true'].mean()"
   ]
  },
  {
   "cell_type": "code",
   "execution_count": 27,
   "id": "e0e20751",
   "metadata": {},
   "outputs": [
    {
     "data": {
      "text/plain": [
       "245.4559059533221"
      ]
     },
     "execution_count": 27,
     "metadata": {},
     "output_type": "execute_result"
    }
   ],
   "source": [
    "avg_preds['pred'].mean()"
   ]
  },
  {
   "cell_type": "code",
   "execution_count": null,
   "id": "c13bbd4b",
   "metadata": {},
   "outputs": [],
   "source": []
  }
 ],
 "metadata": {
  "kernelspec": {
   "display_name": "Python 3",
   "language": "python",
   "name": "python3"
  },
  "language_info": {
   "codemirror_mode": {
    "name": "ipython",
    "version": 3
   },
   "file_extension": ".py",
   "mimetype": "text/x-python",
   "name": "python",
   "nbconvert_exporter": "python",
   "pygments_lexer": "ipython3",
   "version": "3.7.10"
  }
 },
 "nbformat": 4,
 "nbformat_minor": 5
}
