{
 "cells": [
  {
   "cell_type": "code",
   "execution_count": 39,
   "id": "7592c073",
   "metadata": {},
   "outputs": [],
   "source": [
    "import matplotlib.pyplot as plt\n",
    "import pandas as pd\n",
    "import numpy as np\n",
    "\n",
    "# from model_helpers import r2"
   ]
  },
  {
   "cell_type": "code",
   "execution_count": 40,
   "id": "d636dfe1",
   "metadata": {},
   "outputs": [],
   "source": [
    "def r2(true, pred):\n",
    "    '''\n",
    "    r2 = 1 - (RSS / TSS)\n",
    "    R^2\t=\tcoefficient of determination\n",
    "    RSS\t=\tsum of squares of residuals\n",
    "    TSS\t=\ttotal sum of squares\n",
    "    '''\n",
    "    m = np.mean(true)\n",
    "    TSS = sum((true - m) ** 2)\n",
    "    RSS = sum((true - pred) ** 2)\n",
    "    r2 = 1 - (RSS / TSS)\n",
    "    return r2"
   ]
  },
  {
   "cell_type": "code",
   "execution_count": 41,
   "id": "881e4f44",
   "metadata": {},
   "outputs": [
    {
     "data": {
      "text/html": [
       "<div>\n",
       "<style scoped>\n",
       "    .dataframe tbody tr th:only-of-type {\n",
       "        vertical-align: middle;\n",
       "    }\n",
       "\n",
       "    .dataframe tbody tr th {\n",
       "        vertical-align: top;\n",
       "    }\n",
       "\n",
       "    .dataframe thead th {\n",
       "        text-align: right;\n",
       "    }\n",
       "</style>\n",
       "<table border=\"1\" class=\"dataframe\">\n",
       "  <thead>\n",
       "    <tr style=\"text-align: right;\">\n",
       "      <th></th>\n",
       "      <th>impath</th>\n",
       "      <th>true</th>\n",
       "      <th>pred</th>\n",
       "      <th>B</th>\n",
       "    </tr>\n",
       "  </thead>\n",
       "  <tbody>\n",
       "    <tr>\n",
       "      <th>0</th>\n",
       "      <td>MEX-ADM2-1590546715-B3_2010_1_box3_JAN.png</td>\n",
       "      <td>494.0</td>\n",
       "      <td>461.730530</td>\n",
       "      <td>B3</td>\n",
       "    </tr>\n",
       "    <tr>\n",
       "      <th>1</th>\n",
       "      <td>MEX-ADM2-1590546715-B3_2010_1_box5_JAN.png</td>\n",
       "      <td>494.0</td>\n",
       "      <td>447.460449</td>\n",
       "      <td>B3</td>\n",
       "    </tr>\n",
       "    <tr>\n",
       "      <th>2</th>\n",
       "      <td>MEX-ADM2-1590546715-B3_2010_1_box7_JAN.png</td>\n",
       "      <td>494.0</td>\n",
       "      <td>464.251068</td>\n",
       "      <td>B3</td>\n",
       "    </tr>\n",
       "    <tr>\n",
       "      <th>3</th>\n",
       "      <td>MEX-ADM2-1590546715-B3_2010_1_box9_JAN.png</td>\n",
       "      <td>494.0</td>\n",
       "      <td>452.844910</td>\n",
       "      <td>B3</td>\n",
       "    </tr>\n",
       "    <tr>\n",
       "      <th>4</th>\n",
       "      <td>MEX-ADM2-1590546715-B3_2010_1_box11_JAN.png</td>\n",
       "      <td>494.0</td>\n",
       "      <td>476.433777</td>\n",
       "      <td>B3</td>\n",
       "    </tr>\n",
       "  </tbody>\n",
       "</table>\n",
       "</div>"
      ],
      "text/plain": [
       "                                        impath   true        pred   B\n",
       "0   MEX-ADM2-1590546715-B3_2010_1_box3_JAN.png  494.0  461.730530  B3\n",
       "1   MEX-ADM2-1590546715-B3_2010_1_box5_JAN.png  494.0  447.460449  B3\n",
       "2   MEX-ADM2-1590546715-B3_2010_1_box7_JAN.png  494.0  464.251068  B3\n",
       "3   MEX-ADM2-1590546715-B3_2010_1_box9_JAN.png  494.0  452.844910  B3\n",
       "4  MEX-ADM2-1590546715-B3_2010_1_box11_JAN.png  494.0  476.433777  B3"
      ]
     },
     "execution_count": 41,
     "metadata": {},
     "output_type": "execute_result"
    }
   ],
   "source": [
    "df = pd.read_csv(\"./preds_df2.csv\")\n",
    "df['B'] = df['impath'].str.split(\"_\").str[0].str.split(\"-\").str[3]\n",
    "df.head()"
   ]
  },
  {
   "cell_type": "code",
   "execution_count": 42,
   "id": "03cd994f",
   "metadata": {},
   "outputs": [
    {
     "name": "stderr",
     "output_type": "stream",
     "text": [
      "/opt/conda/envs/rapids/lib/python3.7/site-packages/ipykernel_launcher.py:1: FutureWarning: Indexing with multiple keys (implicitly converted to a tuple of keys) will be deprecated, use a list instead.\n",
      "  \"\"\"Entry point for launching an IPython kernel.\n"
     ]
    },
    {
     "data": {
      "text/html": [
       "<div>\n",
       "<style scoped>\n",
       "    .dataframe tbody tr th:only-of-type {\n",
       "        vertical-align: middle;\n",
       "    }\n",
       "\n",
       "    .dataframe tbody tr th {\n",
       "        vertical-align: top;\n",
       "    }\n",
       "\n",
       "    .dataframe thead th {\n",
       "        text-align: right;\n",
       "    }\n",
       "</style>\n",
       "<table border=\"1\" class=\"dataframe\">\n",
       "  <thead>\n",
       "    <tr style=\"text-align: right;\">\n",
       "      <th></th>\n",
       "      <th>B</th>\n",
       "      <th>true</th>\n",
       "      <th>pred</th>\n",
       "    </tr>\n",
       "  </thead>\n",
       "  <tbody>\n",
       "    <tr>\n",
       "      <th>0</th>\n",
       "      <td>B1</td>\n",
       "      <td>479.0</td>\n",
       "      <td>461.562278</td>\n",
       "    </tr>\n",
       "    <tr>\n",
       "      <th>1</th>\n",
       "      <td>B10</td>\n",
       "      <td>1048.0</td>\n",
       "      <td>460.980193</td>\n",
       "    </tr>\n",
       "    <tr>\n",
       "      <th>2</th>\n",
       "      <td>B11</td>\n",
       "      <td>295.0</td>\n",
       "      <td>460.253372</td>\n",
       "    </tr>\n",
       "    <tr>\n",
       "      <th>3</th>\n",
       "      <td>B12</td>\n",
       "      <td>0.0</td>\n",
       "      <td>9.129820</td>\n",
       "    </tr>\n",
       "    <tr>\n",
       "      <th>4</th>\n",
       "      <td>B13</td>\n",
       "      <td>345.0</td>\n",
       "      <td>458.309164</td>\n",
       "    </tr>\n",
       "  </tbody>\n",
       "</table>\n",
       "</div>"
      ],
      "text/plain": [
       "     B    true        pred\n",
       "0   B1   479.0  461.562278\n",
       "1  B10  1048.0  460.980193\n",
       "2  B11   295.0  460.253372\n",
       "3  B12     0.0    9.129820\n",
       "4  B13   345.0  458.309164"
      ]
     },
     "execution_count": 42,
     "metadata": {},
     "output_type": "execute_result"
    }
   ],
   "source": [
    "avg_preds = pd.DataFrame(df.groupby(df['B'])['true', 'pred'].mean()).reset_index()\n",
    "avg_preds.head()"
   ]
  },
  {
   "cell_type": "code",
   "execution_count": 48,
   "id": "742d0b57",
   "metadata": {},
   "outputs": [
    {
     "data": {
      "text/plain": [
       "(0.0, 2000.0)"
      ]
     },
     "execution_count": 48,
     "metadata": {},
     "output_type": "execute_result"
    },
    {
     "data": {
      "image/png": "[encoded data removed]",
      "text/plain": [
       "<Figure size 432x288 with 1 Axes>"
      ]
     },
     "metadata": {
      "needs_background": "light"
     },
     "output_type": "display_data"
    }
   ],
   "source": [
    "plt.scatter(avg_preds['true'], avg_preds['pred'])\n",
    "plt.ylim([0, 2000])"
   ]
  },
  {
   "cell_type": "code",
   "execution_count": 44,
   "id": "7ff1a6ae",
   "metadata": {},
   "outputs": [
    {
     "data": {
      "text/plain": [
       "0.2786565893091514"
      ]
     },
     "execution_count": 44,
     "metadata": {},
     "output_type": "execute_result"
    }
   ],
   "source": [
    "r2(avg_preds['true'], avg_preds['pred'])"
   ]
  },
  {
   "cell_type": "code",
   "execution_count": 45,
   "id": "426c225e",
   "metadata": {},
   "outputs": [],
   "source": [
    "def mae(real, pred):\n",
    "    '''\n",
    "    Calculates MAE of an epoch\n",
    "    '''\n",
    "    return abs(real - pred).mean()"
   ]
  },
  {
   "cell_type": "code",
   "execution_count": 46,
   "id": "76feca6a",
   "metadata": {},
   "outputs": [
    {
     "data": {
      "text/plain": [
       "218.12703957699551"
      ]
     },
     "execution_count": 46,
     "metadata": {},
     "output_type": "execute_result"
    }
   ],
   "source": [
    "mae(avg_preds['true'], avg_preds['pred'])"
   ]
  },
  {
   "cell_type": "code",
   "execution_count": 47,
   "id": "b85b8c01",
   "metadata": {},
   "outputs": [
    {
     "data": {
      "text/plain": [
       "428.2"
      ]
     },
     "execution_count": 47,
     "metadata": {},
     "output_type": "execute_result"
    }
   ],
   "source": [
    "avg_preds['true'].mean()"
   ]
  },
  {
   "cell_type": "code",
   "execution_count": 37,
   "id": "0f7fa15d",
   "metadata": {},
   "outputs": [
    {
     "data": {
      "text/plain": [
       "189.58994097569496"
      ]
     },
     "execution_count": 37,
     "metadata": {},
     "output_type": "execute_result"
    }
   ],
   "source": [
    "avg_preds['pred'].mean()"
   ]
  },
  {
   "cell_type": "code",
   "execution_count": null,
   "id": "0f381516",
   "metadata": {},
   "outputs": [],
   "source": []
  }
 ],
 "metadata": {
  "kernelspec": {
   "display_name": "Python 3",
   "language": "python",
   "name": "python3"
  },
  "language_info": {
   "codemirror_mode": {
    "name": "ipython",
    "version": 3
   },
   "file_extension": ".py",
   "mimetype": "text/x-python",
   "name": "python",
   "nbconvert_exporter": "python",
   "pygments_lexer": "ipython3",
   "version": "3.7.10"
  }
 },
 "nbformat": 4,
 "nbformat_minor": 5
}
