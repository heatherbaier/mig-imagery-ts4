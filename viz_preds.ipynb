{
 "cells": [
  {
   "cell_type": "code",
   "execution_count": 79,
   "id": "4dbe3000",
   "metadata": {},
   "outputs": [],
   "source": [
    "import matplotlib.pyplot as plt\n",
    "import pandas as pd\n",
    "import numpy as np\n",
    "\n",
    "# from model_helpers import r2"
   ]
  },
  {
   "cell_type": "code",
   "execution_count": 80,
   "id": "e9eb1c52",
   "metadata": {},
   "outputs": [],
   "source": [
    "def r2(true, pred):\n",
    "    '''\n",
    "    r2 = 1 - (RSS / TSS)\n",
    "    R^2\t=\tcoefficient of determination\n",
    "    RSS\t=\tsum of squares of residuals\n",
    "    TSS\t=\ttotal sum of squares\n",
    "    '''\n",
    "    m = np.mean(true)\n",
    "    TSS = sum((true - m) ** 2)\n",
    "    RSS = sum((true - pred) ** 2)\n",
    "    r2 = 1 - (RSS / TSS)\n",
    "    return r2"
   ]
  },
  {
   "cell_type": "code",
   "execution_count": 81,
   "id": "0747fd8c",
   "metadata": {},
   "outputs": [
    {
     "data": {
      "text/html": [
       "<div>\n",
       "<style scoped>\n",
       "    .dataframe tbody tr th:only-of-type {\n",
       "        vertical-align: middle;\n",
       "    }\n",
       "\n",
       "    .dataframe tbody tr th {\n",
       "        vertical-align: top;\n",
       "    }\n",
       "\n",
       "    .dataframe thead th {\n",
       "        text-align: right;\n",
       "    }\n",
       "</style>\n",
       "<table border=\"1\" class=\"dataframe\">\n",
       "  <thead>\n",
       "    <tr style=\"text-align: right;\">\n",
       "      <th></th>\n",
       "      <th>muni</th>\n",
       "      <th>im_path</th>\n",
       "      <th>true</th>\n",
       "      <th>pred</th>\n",
       "    </tr>\n",
       "  </thead>\n",
       "  <tbody>\n",
       "    <tr>\n",
       "      <th>0</th>\n",
       "      <td>484012003</td>\n",
       "      <td>484012003_2010_1_-100.6484586423405_17.9408063...</td>\n",
       "      <td>4211.0</td>\n",
       "      <td>6103.749512</td>\n",
       "    </tr>\n",
       "    <tr>\n",
       "      <th>1</th>\n",
       "      <td>484005014</td>\n",
       "      <td>484005014_2010_2_-101.0361085661445_29.0779133...</td>\n",
       "      <td>447.0</td>\n",
       "      <td>4948.602051</td>\n",
       "    </tr>\n",
       "    <tr>\n",
       "      <th>2</th>\n",
       "      <td>484002001</td>\n",
       "      <td>484002001_2010_4_-114.9030186450802_29.5632152...</td>\n",
       "      <td>12280.0</td>\n",
       "      <td>5040.728516</td>\n",
       "    </tr>\n",
       "    <tr>\n",
       "      <th>3</th>\n",
       "      <td>484032038</td>\n",
       "      <td>484032038_2010_7_-102.9432424958534_23.7594658...</td>\n",
       "      <td>9365.0</td>\n",
       "      <td>7976.794434</td>\n",
       "    </tr>\n",
       "    <tr>\n",
       "      <th>4</th>\n",
       "      <td>484016026</td>\n",
       "      <td>484016026_2010_1_-103.4222490149493_18.6957603...</td>\n",
       "      <td>1002.0</td>\n",
       "      <td>5387.498047</td>\n",
       "    </tr>\n",
       "  </tbody>\n",
       "</table>\n",
       "</div>"
      ],
      "text/plain": [
       "        muni                                            im_path     true  \\\n",
       "0  484012003  484012003_2010_1_-100.6484586423405_17.9408063...   4211.0   \n",
       "1  484005014  484005014_2010_2_-101.0361085661445_29.0779133...    447.0   \n",
       "2  484002001  484002001_2010_4_-114.9030186450802_29.5632152...  12280.0   \n",
       "3  484032038  484032038_2010_7_-102.9432424958534_23.7594658...   9365.0   \n",
       "4  484016026  484016026_2010_1_-103.4222490149493_18.6957603...   1002.0   \n",
       "\n",
       "          pred  \n",
       "0  6103.749512  \n",
       "1  4948.602051  \n",
       "2  5040.728516  \n",
       "3  7976.794434  \n",
       "4  5387.498047  "
      ]
     },
     "execution_count": 81,
     "metadata": {},
     "output_type": "execute_result"
    }
   ],
   "source": [
    "df = pd.read_csv(\"./val_preds_new_50epochs_r50.csv\")\n",
    "# df['B'] = df['impath'].str.split(\"_\").str[0]#.str.split(\"-\").str[3]\n",
    "df.head()"
   ]
  },
  {
   "cell_type": "code",
   "execution_count": 82,
   "id": "2cc196ed",
   "metadata": {},
   "outputs": [
    {
     "name": "stderr",
     "output_type": "stream",
     "text": [
      "/opt/conda/envs/rapids/lib/python3.7/site-packages/ipykernel_launcher.py:1: FutureWarning: Indexing with multiple keys (implicitly converted to a tuple of keys) will be deprecated, use a list instead.\n",
      "  \"\"\"Entry point for launching an IPython kernel.\n"
     ]
    },
    {
     "data": {
      "text/html": [
       "<div>\n",
       "<style scoped>\n",
       "    .dataframe tbody tr th:only-of-type {\n",
       "        vertical-align: middle;\n",
       "    }\n",
       "\n",
       "    .dataframe tbody tr th {\n",
       "        vertical-align: top;\n",
       "    }\n",
       "\n",
       "    .dataframe thead th {\n",
       "        text-align: right;\n",
       "    }\n",
       "</style>\n",
       "<table border=\"1\" class=\"dataframe\">\n",
       "  <thead>\n",
       "    <tr style=\"text-align: right;\">\n",
       "      <th></th>\n",
       "      <th>muni</th>\n",
       "      <th>true</th>\n",
       "      <th>pred</th>\n",
       "    </tr>\n",
       "  </thead>\n",
       "  <tbody>\n",
       "    <tr>\n",
       "      <th>0</th>\n",
       "      <td>484001001</td>\n",
       "      <td>42055.0</td>\n",
       "      <td>7806.458483</td>\n",
       "    </tr>\n",
       "    <tr>\n",
       "      <th>1</th>\n",
       "      <td>484001003</td>\n",
       "      <td>11992.0</td>\n",
       "      <td>8367.886684</td>\n",
       "    </tr>\n",
       "    <tr>\n",
       "      <th>2</th>\n",
       "      <td>484001005</td>\n",
       "      <td>7551.0</td>\n",
       "      <td>7858.248235</td>\n",
       "    </tr>\n",
       "    <tr>\n",
       "      <th>3</th>\n",
       "      <td>484001006</td>\n",
       "      <td>7444.0</td>\n",
       "      <td>7423.745361</td>\n",
       "    </tr>\n",
       "    <tr>\n",
       "      <th>4</th>\n",
       "      <td>484001007</td>\n",
       "      <td>988.0</td>\n",
       "      <td>5715.836759</td>\n",
       "    </tr>\n",
       "  </tbody>\n",
       "</table>\n",
       "</div>"
      ],
      "text/plain": [
       "        muni     true         pred\n",
       "0  484001001  42055.0  7806.458483\n",
       "1  484001003  11992.0  8367.886684\n",
       "2  484001005   7551.0  7858.248235\n",
       "3  484001006   7444.0  7423.745361\n",
       "4  484001007    988.0  5715.836759"
      ]
     },
     "execution_count": 82,
     "metadata": {},
     "output_type": "execute_result"
    }
   ],
   "source": [
    "avg_preds = pd.DataFrame(df.groupby(df['muni'])['true', 'pred'].mean()).reset_index()\n",
    "avg_preds.head()"
   ]
  },
  {
   "cell_type": "code",
   "execution_count": 83,
   "id": "67c5acde",
   "metadata": {},
   "outputs": [],
   "source": [
    "avg_preds.to_csv(\"./for_gs2.csv\")"
   ]
  },
  {
   "cell_type": "code",
   "execution_count": 84,
   "id": "137d091f",
   "metadata": {},
   "outputs": [
    {
     "data": {
      "text/plain": [
       "<matplotlib.collections.PathCollection at 0x7f6c6f009790>"
      ]
     },
     "execution_count": 84,
     "metadata": {},
     "output_type": "execute_result"
    },
    {
     "data": {
      "image/png": "[encoded data removed]",
      "text/plain": [
       "<Figure size 432x288 with 1 Axes>"
      ]
     },
     "metadata": {
      "needs_background": "light"
     },
     "output_type": "display_data"
    }
   ],
   "source": [
    "plt.scatter(df['true'], df['pred'])\n"
   ]
  },
  {
   "cell_type": "code",
   "execution_count": 85,
   "id": "07c38b4e",
   "metadata": {},
   "outputs": [
    {
     "data": {
      "text/plain": [
       "<matplotlib.collections.PathCollection at 0x7f6c6f00fad0>"
      ]
     },
     "execution_count": 85,
     "metadata": {},
     "output_type": "execute_result"
    },
    {
     "data": {
      "image/png": "[encoded data removed]",
      "text/plain": [
       "<Figure size 432x288 with 1 Axes>"
      ]
     },
     "metadata": {
      "needs_background": "light"
     },
     "output_type": "display_data"
    }
   ],
   "source": [
    "plt.scatter(avg_preds['true'], avg_preds['pred'])\n",
    "# plt.ylim([0, 500])\n",
    "# plt.xlim([0, 500])"
   ]
  },
  {
   "cell_type": "code",
   "execution_count": 86,
   "id": "9112bd29",
   "metadata": {},
   "outputs": [
    {
     "data": {
      "text/plain": [
       "-0.042631891135110234"
      ]
     },
     "execution_count": 86,
     "metadata": {},
     "output_type": "execute_result"
    }
   ],
   "source": [
    "r2(avg_preds['true'], avg_preds['pred'])"
   ]
  },
  {
   "cell_type": "code",
   "execution_count": 36,
   "id": "1ad4f5f4",
   "metadata": {},
   "outputs": [],
   "source": [
    "def mae(real, pred):\n",
    "    '''\n",
    "    Calculates MAE of an epoch\n",
    "    '''\n",
    "    return abs(real - pred).mean()"
   ]
  },
  {
   "cell_type": "code",
   "execution_count": 37,
   "id": "ca15553f",
   "metadata": {},
   "outputs": [
    {
     "data": {
      "text/plain": [
       "5355.610191424304"
      ]
     },
     "execution_count": 37,
     "metadata": {},
     "output_type": "execute_result"
    }
   ],
   "source": [
    "mae(avg_preds['true'], avg_preds['pred'])"
   ]
  },
  {
   "cell_type": "code",
   "execution_count": 38,
   "id": "1483b322",
   "metadata": {},
   "outputs": [
    {
     "data": {
      "text/plain": [
       "3019.817384370016"
      ]
     },
     "execution_count": 38,
     "metadata": {},
     "output_type": "execute_result"
    }
   ],
   "source": [
    "avg_preds['true'].mean()"
   ]
  },
  {
   "cell_type": "code",
   "execution_count": 39,
   "id": "75279765",
   "metadata": {},
   "outputs": [
    {
     "data": {
      "text/plain": [
       "6762.001569428811"
      ]
     },
     "execution_count": 39,
     "metadata": {},
     "output_type": "execute_result"
    }
   ],
   "source": [
    "avg_preds['pred'].mean()"
   ]
  },
  {
   "cell_type": "code",
   "execution_count": null,
   "id": "da643035",
   "metadata": {},
   "outputs": [],
   "source": []
  }
 ],
 "metadata": {
  "kernelspec": {
   "display_name": "Python 3",
   "language": "python",
   "name": "python3"
  },
  "language_info": {
   "codemirror_mode": {
    "name": "ipython",
    "version": 3
   },
   "file_extension": ".py",
   "mimetype": "text/x-python",
   "name": "python",
   "nbconvert_exporter": "python",
   "pygments_lexer": "ipython3",
   "version": "3.7.10"
  }
 },
 "nbformat": 4,
 "nbformat_minor": 5
}
